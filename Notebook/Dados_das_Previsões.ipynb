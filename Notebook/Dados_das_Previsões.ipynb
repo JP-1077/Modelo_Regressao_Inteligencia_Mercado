{
 "cells": [
  {
   "cell_type": "markdown",
   "metadata": {},
   "source": [
    "# **Dados das Previsões do Modelo XG Boost**\n",
    "\n",
    "Esse notebook tem como objetivo gerar as previsões dos preços de fechamento das ações, utilizando o modelo de regressão criado no notebook \"previsao_acoes_ml\".\n",
    "\n",
    "* **O que será feito?**\n",
    "\n",
    "    * Criação de uma base de dados aleatória 📊\n",
    "\n",
    "        * São gerados dados sintéticos para os próximos 90 dias, respeitando faixas realistas de preços, volume de negociações e indicadores financeiros.\n",
    "\n",
    "    * Carregamento do modelo e a geração das previsões 🤖\n",
    "\n",
    "        * O modelo de regressão desenvolvido é carregado do arquivo modelo_xgboost.pkl\n",
    "\n",
    "        * O modelo faz previsões dos preços de fechamento e salva os resultados no arquivo `previsoes_nova_base.csv` \n",
    "\n",
    "    * Importação da base de dados real\n",
    "        * O conjunto de dados é `uber_stock_data.csv` é carregado para validar a estrutura dos dados históricos das ações.\n",
    "\n",
    "        * Isso permite comparar futuras previsões com dados reais."
   ]
  },
  {
   "cell_type": "markdown",
   "metadata": {},
   "source": [
    "## 1. Criação de uma base de dados aleatória"
   ]
  },
  {
   "cell_type": "code",
   "execution_count": 1,
   "metadata": {},
   "outputs": [
    {
     "name": "stdout",
     "output_type": "stream",
     "text": [
      "  Data_Negociacao  Preco_Abertura  Maior_Preco_Dia  Menor_Preco_Dia  \\\n",
      "0      2025-01-01       34.981605        29.783770        28.642654   \n",
      "1      2025-01-02       58.028572        53.529791        19.538941   \n",
      "2      2025-01-03       49.279758        55.431402        51.987745   \n",
      "3      2025-01-04       43.946339        47.451088        50.093574   \n",
      "4      2025-01-05       26.240746        55.838687        25.317665   \n",
      "\n",
      "   Volume_Negociacoes_Proc  Media_Movel_7  Media_Movel_30  Media_Movel_90  \\\n",
      "0                42.374446      35.526797       51.085877       58.162041   \n",
      "1                42.404536      45.731529       42.336170       44.246985   \n",
      "2                44.682893      38.330116       36.968880       29.145712   \n",
      "3                46.529622      41.824672       56.254175       46.868027   \n",
      "4                30.453696      57.658592       24.447899       44.725130   \n",
      "\n",
      "   Volatilidade_7  Retorno_Percentual  \n",
      "0        3.710073            0.043834  \n",
      "1        4.528431           -0.031877  \n",
      "2        2.802548           -0.043350  \n",
      "3        2.894511            0.024112  \n",
      "4        0.982274            0.007447  \n"
     ]
    }
   ],
   "source": [
    "import pandas as pd\n",
    "import numpy as np\n",
    "\n",
    "# Definir número de dias e datas\n",
    "dias_futuros = 90\n",
    "datas_futuras = pd.date_range(start=\"2025-01-01\", periods=dias_futuros, freq=\"D\")\n",
    "\n",
    "# Gerar valores aleatórios dentro de faixas típicas para cada coluna\n",
    "np.random.seed(42)  # Para reprodutibilidade dos dados\n",
    "df_aleatorio = pd.DataFrame({\n",
    "    \"Data_Negociacao\": datas_futuras,\n",
    "    \"Preco_Abertura\": np.random.uniform(20, 60, dias_futuros),  # Valores entre $20 e $60\n",
    "    \"Maior_Preco_Dia\": np.random.uniform(25, 65, dias_futuros),\n",
    "    \"Menor_Preco_Dia\": np.random.uniform(15, 55, dias_futuros),\n",
    "    \"Volume_Negociacoes_Proc\": np.random.uniform(10, 50, dias_futuros),\n",
    "    \"Media_Movel_7\": np.random.uniform(20, 60, dias_futuros),\n",
    "    \"Media_Movel_30\": np.random.uniform(20, 60, dias_futuros),\n",
    "    \"Media_Movel_90\": np.random.uniform(20, 60, dias_futuros),\n",
    "    \"Volatilidade_7\": np.random.uniform(0.5, 5, dias_futuros),  # Volatilidade mais baixa\n",
    "    \"Retorno_Percentual\": np.random.uniform(-0.05, 0.05, dias_futuros)  # Retorno entre -5% e 5%\n",
    "})\n",
    "\n",
    "# Salvar a base em um arquivo CSV\n",
    "df_aleatorio.to_csv(\"base_dados_aleatoria.csv\", index=False)\n",
    "\n",
    "# Exibir amostra dos dados gerados\n",
    "print(df_aleatorio.head())\n"
   ]
  },
  {
   "cell_type": "markdown",
   "metadata": {},
   "source": [
    "## 2. Carregamento do modelo e a geração das previsões\n"
   ]
  },
  {
   "cell_type": "code",
   "execution_count": 3,
   "metadata": {},
   "outputs": [
    {
     "name": "stdout",
     "output_type": "stream",
     "text": [
      "✅ A base tem as mesmas colunas usadas no treinamento do modelo!\n",
      "   Preco_Abertura  Maior_Preco_Dia  Menor_Preco_Dia  Volume_Negociacoes_Proc  \\\n",
      "0       34.981605        29.783770        28.642654                42.374446   \n",
      "1       58.028572        53.529791        19.538941                42.404536   \n",
      "2       49.279758        55.431402        51.987745                44.682893   \n",
      "3       43.946339        47.451088        50.093574                46.529622   \n",
      "4       26.240746        55.838687        25.317665                30.453696   \n",
      "\n",
      "   Media_Movel_7  Media_Movel_30  Media_Movel_90  Volatilidade_7  \\\n",
      "0      35.526797       51.085877       58.162041        3.710073   \n",
      "1      45.731529       42.336170       44.246985        4.528431   \n",
      "2      38.330116       36.968880       29.145712        2.802548   \n",
      "3      41.824672       56.254175       46.868027        2.894511   \n",
      "4      57.658592       24.447899       44.725130        0.982274   \n",
      "\n",
      "   Retorno_Percentual  Preco_Previsto  \n",
      "0            0.043834       29.948326  \n",
      "1           -0.031877       37.367226  \n",
      "2           -0.043350       52.912323  \n",
      "3            0.024112       50.232018  \n",
      "4            0.007447       40.139175  \n",
      "✅ Previsões salvas no arquivo 'previsoes_nova_base.csv'\n"
     ]
    }
   ],
   "source": [
    "import joblib\n",
    "import pandas as pd\n",
    "import xgboost as xgb\n",
    "\n",
    "# Carregar o modelo treinado\n",
    "modelo_xgb = joblib.load(\"modelo_xgboost.pkl\")\n",
    "\n",
    "# Carregar a base aleatória gerada\n",
    "df_nova = pd.read_csv(\"base_dados_aleatoria.csv\")\n",
    "\n",
    "# Remover a coluna de data para manter apenas as features do modelo\n",
    "df_nova = df_nova.drop(columns=[\"Data_Negociacao\"])\n",
    "\n",
    "# Verificar se as colunas batem com as features do modelo treinado\n",
    "features_treinadas = [\"Preco_Abertura\", \"Maior_Preco_Dia\", \"Menor_Preco_Dia\",\n",
    "                       \"Volume_Negociacoes_Proc\", \"Media_Movel_7\", \"Media_Movel_30\",\n",
    "                       \"Media_Movel_90\", \"Volatilidade_7\", \"Retorno_Percentual\"]\n",
    "\n",
    "if list(df_nova.columns) == features_treinadas:\n",
    "    print(\"✅ A base tem as mesmas colunas usadas no treinamento do modelo!\")\n",
    "else:\n",
    "    print(\"⚠️ A base tem colunas diferentes do esperado. Verifique os nomes!\")\n",
    "\n",
    "dtest = xgb.DMatrix(df_nova)\n",
    "\n",
    "# Fazer previsões com a nova base\n",
    "previsoes = modelo_xgb.predict(dtest)\n",
    "\n",
    "# Adicionar as previsões ao DataFrame\n",
    "df_nova[\"Preco_Previsto\"] = previsoes\n",
    "\n",
    "# Exibir amostra dos dados previstos\n",
    "print(df_nova.head())\n",
    "\n",
    "# Salvar as previsões em um novo arquivo\n",
    "df_nova.to_csv(\"previsoes_nova_base.csv\", index=False)\n",
    "print(\"✅ Previsões salvas no arquivo 'previsoes_nova_base.csv'\")\n",
    "\n"
   ]
  },
  {
   "cell_type": "markdown",
   "metadata": {},
   "source": [
    "##  3. Importação da base de dados real\n"
   ]
  },
  {
   "cell_type": "code",
   "execution_count": 4,
   "metadata": {},
   "outputs": [
    {
     "data": {
      "text/plain": [
       "Index(['Date', 'Adj Close', 'Close', 'High', 'Low', 'Open', 'Volume'], dtype='object')"
      ]
     },
     "execution_count": 4,
     "metadata": {},
     "output_type": "execute_result"
    }
   ],
   "source": [
    "import pandas as pd\n",
    "\n",
    "# Lendo o arquivo CSV (Base_Acoes_Uber.csv)\n",
    "Base_Acoes_Uber = pd.read_csv(r'C:\\Users\\jmend\\OneDrive\\Documentos\\Projetos\\Uber Analysis\\Base de Dados\\uber_stock_data.csv')\n",
    "\n",
    "# Um processo de validação na qual exibo os nomes das colunas do Data Frame para verificar se a importação do conjunto de dados deu certo.\n",
    "Base_Acoes_Uber.columns"
   ]
  },
  {
   "cell_type": "code",
   "execution_count": 5,
   "metadata": {},
   "outputs": [
    {
     "name": "stdout",
     "output_type": "stream",
     "text": [
      "<class 'pandas.core.frame.DataFrame'>\n",
      "RangeIndex: 1444 entries, 0 to 1443\n",
      "Data columns (total 7 columns):\n",
      " #   Column                     Non-Null Count  Dtype  \n",
      "---  ------                     --------------  -----  \n",
      " 0   Data_Negociacao            1444 non-null   object \n",
      " 1   Preco_Ajustado_Fechamento  1444 non-null   float64\n",
      " 2   Preco_Fechamento           1444 non-null   float64\n",
      " 3   Maior_Preco_Dia            1444 non-null   float64\n",
      " 4   Menor_Preco_Dia            1444 non-null   float64\n",
      " 5   Preco_Abertura             1444 non-null   float64\n",
      " 6   Volume_Negociacoes         1444 non-null   int64  \n",
      "dtypes: float64(5), int64(1), object(1)\n",
      "memory usage: 79.1+ KB\n"
     ]
    }
   ],
   "source": [
    "columns = ['Data_Negociacao', 'Preco_Ajustado_Fechamento', 'Preco_Fechamento', 'Maior_Preco_Dia', 'Menor_Preco_Dia',\n",
    "           'Preco_Abertura', 'Volume_Negociacoes']\n",
    "\n",
    "### --> Atribui os novos nomes de colunas ao conjunto de dados\n",
    "Base_Acoes_Uber.columns = columns\n",
    "\n",
    "### --> Capturo informações atualizadas dos dados\n",
    "Base_Acoes_Uber.info()"
   ]
  },
  {
   "cell_type": "code",
   "execution_count": 6,
   "metadata": {},
   "outputs": [
    {
     "name": "stdout",
     "output_type": "stream",
     "text": [
      "  Data_Negociacao  Preco_Previsto\n",
      "0      2025-02-06       29.948326\n",
      "1      2025-02-07       37.367226\n",
      "2      2025-02-08       52.912323\n",
      "3      2025-02-09       50.232018\n",
      "4      2025-02-10       40.139175\n"
     ]
    }
   ],
   "source": [
    "import pandas as pd\n",
    "\n",
    "# Gerar a sequência de datas para os próximos 90 dias\n",
    "dias_futuros = 90\n",
    "ultima_data = pd.to_datetime(Base_Acoes_Uber[\"Data_Negociacao\"]).max()  # Última data da base original\n",
    "datas_futuras = pd.date_range(start=ultima_data + pd.Timedelta(days=1), periods=dias_futuros, freq=\"D\")\n",
    "\n",
    "# Criar um novo DataFrame com as previsões\n",
    "df_previsoes = pd.DataFrame(previsoes, columns=[\"Preco_Previsto\"])\n",
    "\n",
    "# Adicionar a coluna de datas\n",
    "df_previsoes[\"Data_Negociacao\"] = datas_futuras\n",
    "\n",
    "# Reorganizar as colunas (opcional)\n",
    "df_previsoes = df_previsoes[[\"Data_Negociacao\", \"Preco_Previsto\"]]\n",
    "\n",
    "# Salvar em CSV para análise\n",
    "df_previsoes.to_csv(\"previsoes_com_datas.csv\", index=False)\n",
    "\n",
    "# Exibir amostra dos dados\n",
    "print(df_previsoes.head())\n"
   ]
  }
 ],
 "metadata": {
  "kernelspec": {
   "display_name": "base",
   "language": "python",
   "name": "python3"
  },
  "language_info": {
   "codemirror_mode": {
    "name": "ipython",
    "version": 3
   },
   "file_extension": ".py",
   "mimetype": "text/x-python",
   "name": "python",
   "nbconvert_exporter": "python",
   "pygments_lexer": "ipython3",
   "version": "3.12.4"
  }
 },
 "nbformat": 4,
 "nbformat_minor": 2
}
